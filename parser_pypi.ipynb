{
 "cells": [
  {
   "cell_type": "code",
   "execution_count": 11,
   "metadata": {},
   "outputs": [
    {
     "data": {
      "text/plain": [
       "'\\nLicense: MIT License\\n      '"
      ]
     },
     "execution_count": 11,
     "metadata": {},
     "output_type": "execute_result"
    }
   ],
   "source": [
    "from urllib.request import urlopen\n",
    "from bs4 import BeautifulSoup\n",
    "import ssl\n",
    "\n",
    "context = ssl._create_unverified_context()\n",
    "\n",
    "inner_html_code = str(urlopen('https://pypi.org/project/blinker/', context=context).read(),'utf-8')\n",
    "\n",
    "inner_soup = BeautifulSoup(inner_html_code, \"html.parser\")\n",
    "inner_soup = inner_soup.find('span', {'class': 'vertical-tabs__tab vertical-tabs__tab--condensed'})\n",
    "\n",
    "inner_soup.get_text()"
   ]
  },
  {
   "cell_type": "code",
   "execution_count": 16,
   "metadata": {},
   "outputs": [
    {
     "name": "stdout",
     "output_type": "stream",
     "text": [
      "Информация сохранена в файл licenses.md\n"
     ]
    }
   ],
   "source": [
    "import requests\n",
    "import re\n",
    "\n",
    "def get_license(package_name):\n",
    "    \"\"\"Получает информацию о лицензии пакета с PyPI, включая classifiers.\"\"\"\n",
    "    url = f\"https://pypi.org/pypi/{package_name}/json\"\n",
    "    response = requests.get(url)\n",
    "    \n",
    "    if response.status_code == 200:\n",
    "        data = response.json()\n",
    "        # Проверяем поле 'license'\n",
    "        license_info = data['info'].get('license')\n",
    "        \n",
    "        # Если поле 'license' пустое, проверяем 'classifiers'\n",
    "        if not license_info:\n",
    "            classifiers = data['info'].get('classifiers', [])\n",
    "            # Ищем строку с информацией о лицензии в classifiers\n",
    "            license_info = next(\n",
    "                (classifier for classifier in classifiers if classifier.startswith(\"License\")),\n",
    "                \"Лицензия не указана\"\n",
    "            )\n",
    "        \n",
    "        return license_info\n",
    "    else:\n",
    "        return \"Пакет не найден на PyPI\"\n",
    "\n",
    "def parse_requirements(file_path, output_file):\n",
    "    \"\"\"Парсит файл requirements.txt и сохраняет пакеты с их лицензиями в файл с разметкой Markdown.\"\"\"\n",
    "    try:\n",
    "        with open(file_path, 'r') as file:\n",
    "            lines = file.readlines()\n",
    "        \n",
    "        # Открываем файл для записи в формате Markdown\n",
    "        with open(output_file, 'w') as md_file:\n",
    "            md_file.write(\"# Список пакетов и их лицензий\\n\\n\")\n",
    "            \n",
    "            for line in lines:\n",
    "                # Извлекаем имя пакета без версии (если версия указана)\n",
    "                package = re.split('==|>=|<=|>|<', line.strip())[0]\n",
    "                license_info = get_license(package)\n",
    "                # Записываем информацию в формате Markdown\n",
    "                md_file.write(f\"- **{package}**: {license_info}\\n\")\n",
    "                \n",
    "        print(f\"Информация сохранена в файл {output_file}\")\n",
    "    \n",
    "    except FileNotFoundError:\n",
    "        print(\"Файл requirements.txt не найден.\")\n",
    "\n",
    "if __name__ == \"__main__\":\n",
    "    # Укажите путь к вашему файлу requirements.txt и имя выходного файла\n",
    "    file_path = \"requirements.txt\"\n",
    "    output_file = \"licenses.md\"\n",
    "    parse_requirements(file_path, output_file)"
   ]
  }
 ],
 "metadata": {
  "kernelspec": {
   "display_name": "parservenv",
   "language": "python",
   "name": "python3"
  },
  "language_info": {
   "codemirror_mode": {
    "name": "ipython",
    "version": 3
   },
   "file_extension": ".py",
   "mimetype": "text/x-python",
   "name": "python",
   "nbconvert_exporter": "python",
   "pygments_lexer": "ipython3",
   "version": "3.12.1"
  }
 },
 "nbformat": 4,
 "nbformat_minor": 2
}
